{
 "cells": [
  {
   "cell_type": "code",
   "execution_count": null,
   "metadata": {},
   "outputs": [],
   "source": [
    "#when your university officially sends you pdf version of your master degree and a few pages in it upside down\n",
    "\n",
    "import PyPDF2\n",
    "\n",
    "pdf_in = open('the-upside-down.pdf', 'rb')\n",
    "pdf_reader = PyPDF2.PdfFileReader(pdf_in)\n",
    "pdf_writer = PyPDF2.PdfFileWriter()\n",
    "\n",
    "for pagenum in range(pdf_reader.numPages):\n",
    "    page = pdf_reader.getPage(pagenum)\n",
    "    page.rotateClockwise(180)\n",
    "    pdf_writer.addPage(page)\n",
    "\n",
    "pdf_out = open('so-now-you-can-apply-for-jobs-with-this-file.pdf', 'wb')\n",
    "pdf_writer.write(pdf_out)\n",
    "pdf_out.close()\n",
    "pdf_in.close()"
   ]
  }
 ],
 "metadata": {
  "kernelspec": {
   "display_name": "Python 3",
   "language": "python",
   "name": "python3"
  },
  "language_info": {
   "codemirror_mode": {
    "name": "ipython",
    "version": 3
   },
   "file_extension": ".py",
   "mimetype": "text/x-python",
   "name": "python",
   "nbconvert_exporter": "python",
   "pygments_lexer": "ipython3",
   "version": "3.5.4"
  }
 },
 "nbformat": 4,
 "nbformat_minor": 2
}
