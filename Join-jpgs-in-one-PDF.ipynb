{
 "cells": [
  {
   "cell_type": "code",
   "execution_count": null,
   "metadata": {},
   "outputs": [],
   "source": [
    "#whenever you gotta provide some docs for regular bureaucracy crap,\n",
    "#and you have scanned images, but need to combine them in one pdf file \n",
    "\n",
    "from fpdf import FPDF\n",
    "from os import listdir\n",
    "\n",
    "im1 = \"pdfs/damn-why-i-saved-it-as-jpg-01.jpg\"\n",
    "im2 = \"pdfs/damn-why-i-saved-it-as-jpg-02.jpg\"\n",
    "im3 = \"pdfs/damn-why-i-saved-it-as-jpg-03.jpg\"\n",
    "imagelist = [im1, im2, im3]\n",
    "\n",
    "pdf = FPDF('P','mm','A4')\n",
    "for image in imagelist:\n",
    "    pdf.add_page()\n",
    "    pdf.image(image,w=210, h=297)\n",
    "pdf.output(\"output.pdf\")"
   ]
  }
 ],
 "metadata": {
  "kernelspec": {
   "display_name": "Python 3",
   "language": "python",
   "name": "python3"
  },
  "language_info": {
   "codemirror_mode": {
    "name": "ipython",
    "version": 3
   },
   "file_extension": ".py",
   "mimetype": "text/x-python",
   "name": "python",
   "nbconvert_exporter": "python",
   "pygments_lexer": "ipython3",
   "version": "3.5.4"
  }
 },
 "nbformat": 4,
 "nbformat_minor": 2
}
