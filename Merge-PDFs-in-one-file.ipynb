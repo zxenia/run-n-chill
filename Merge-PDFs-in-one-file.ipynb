{
 "cells": [
  {
   "cell_type": "code",
   "execution_count": null,
   "metadata": {},
   "outputs": [],
   "source": [
    "#merge pdf files in one pdf\n",
    "from PyPDF2 import PdfFileMerger\n",
    "\n",
    "pdfs = ['01.pdf', '02.pdf', '03.pdf', '04.pdf', '05.pdf']\n",
    "\n",
    "merger = PdfFileMerger()\n",
    "\n",
    "for pdf in pdfs:\n",
    "    merger.append(open(pdf, 'rb'))\n",
    "\n",
    "with open('merged.pdf', 'wb') as fout:\n",
    "    merger.write(fout)"
   ]
  }
 ],
 "metadata": {
  "kernelspec": {
   "display_name": "Python 3",
   "language": "python",
   "name": "python3"
  },
  "language_info": {
   "codemirror_mode": {
    "name": "ipython",
    "version": 3
   },
   "file_extension": ".py",
   "mimetype": "text/x-python",
   "name": "python",
   "nbconvert_exporter": "python",
   "pygments_lexer": "ipython3",
   "version": "3.5.4"
  }
 },
 "nbformat": 4,
 "nbformat_minor": 2
}
