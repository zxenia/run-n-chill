{
 "cells": [
  {
   "cell_type": "code",
   "execution_count": 7,
   "metadata": {},
   "outputs": [],
   "source": [
    "#extract some pages from pdf\n",
    "\n",
    "from PyPDF2 import PdfFileWriter, PdfFileReader\n",
    "\n",
    "with open('input.pdf', 'rb') as inputfile:\n",
    "    reader = PdfFileReader(inputfile)\n",
    "    writer = PdfFileWriter()\n",
    "    writer.addPage(reader.getPage(0))\n",
    "    writer.addPage(reader.getPage(1))\n",
    "    writer.addPage(reader.getPage(2))\n",
    "\n",
    "    with open('output.pdf', 'wb') as outputfile:\n",
    "        writer.write(outputfile)\n"
   ]
  }
 ],
 "metadata": {
  "kernelspec": {
   "display_name": "Python 3",
   "language": "python",
   "name": "python3"
  },
  "language_info": {
   "codemirror_mode": {
    "name": "ipython",
    "version": 3
   },
   "file_extension": ".py",
   "mimetype": "text/x-python",
   "name": "python",
   "nbconvert_exporter": "python",
   "pygments_lexer": "ipython3",
   "version": "3.5.4"
  }
 },
 "nbformat": 4,
 "nbformat_minor": 2
}
